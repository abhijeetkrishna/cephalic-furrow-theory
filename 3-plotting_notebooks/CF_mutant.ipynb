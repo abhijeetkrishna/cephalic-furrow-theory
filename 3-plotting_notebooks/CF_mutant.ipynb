{
 "cells": [
  {
   "cell_type": "code",
   "execution_count": 25,
   "metadata": {},
   "outputs": [],
   "source": [
    "from CF_methods import *"
   ]
  },
  {
   "cell_type": "markdown",
   "metadata": {},
   "source": [
    "# Test plot"
   ]
  },
  {
   "cell_type": "code",
   "execution_count": 26,
   "metadata": {},
   "outputs": [
    {
     "data": {
      "image/png": "[encoded data removed]",
      "text/plain": [
       "<Figure size 85.0394x56.6929 with 1 Axes>"
      ]
     },
     "metadata": {
      "needs_background": "light"
     },
     "output_type": "display_data"
    }
   ],
   "source": [
    "Large_font_size = 12\n",
    "Medium_font_size = 7\n",
    "Small_font_size = 5\n",
    "lw = 1\n",
    "text_kwargs = dict(ha='center', va='center', color='C1')\n",
    "\n",
    "#setting figuresize - by default matplotlib uses inches\n",
    "#size of A4 sheet - \n",
    "cm_ = 1/2.54  # centimeters in inches\n",
    "fig, ax = plt.subplots(figsize=(3*cm_, 2*cm_))\n",
    "#ax.text(0.5, 1.5, f'Max font : {Large_font_size}pt', fontsize = Large_font_size, **text_kwargs)\n",
    "#ax.text(0.5, 1.0, f'Med font : {Medium_font_size}pt', fontsize = Medium_font_size, **text_kwargs)\n",
    "#ax.text(0.5, 0.5, f'Small font : {Small_font_size}pt', fontsize = Small_font_size, **text_kwargs)\n",
    "ax.tick_params(axis='both', which='major', labelsize=Medium_font_size)\n",
    "ax.set_ylabel(r\"$K_b^*$\", fontsize = Medium_font_size, rotation = 0)\n",
    "ax.set_xlabel(\"g\", fontsize = Medium_font_size)\n",
    "\n",
    "os.makedirs(\"plots\", exist_ok=True)\n",
    "\n",
    "fig.savefig(\"plots/test.pdf\", bbox_inches = \"tight\")"
   ]
  },
  {
   "cell_type": "markdown",
   "metadata": {},
   "source": [
    "# Import data\n",
    "Import all the csv files available in `CephalicFurrow_theory/simulation_data/CF_mutant`"
   ]
  },
  {
   "cell_type": "code",
   "execution_count": 27,
   "metadata": {},
   "outputs": [],
   "source": [
    "global_path_to_repo = \"/Users/krishna/PhD/CephalicFurrow_theory/\"\n",
    "path_to_dfs = global_path_to_repo + \"simulation_data/CF_mutant/dfs/\"\n",
    "\n",
    "group_K_g = pd.read_csv(path_to_dfs + \"avg_prop_over_K_and_g_combination.csv\")\n",
    "grouped_df = pd.read_csv(path_to_dfs + \"avg_prop_over_each_sim.csv\")\n",
    "df_energy_all = pd.read_csv(path_to_dfs + 'combined_energy.csv')\n",
    "grouped_energy_df = pd.read_csv(path_to_dfs + \"grouped_energy_df.csv\")\n",
    "mean_shape_at_maxBendEnergy = pd.read_csv(path_to_dfs + \"mean_depth_along_curve_at_maxBendEnergy.csv\")\n",
    "#mean_shape_at_final = pd.read_csv(path_to_dfs + \"mean_depth_along_curve_at_final.csv\")\n",
    "allSims_at_maxBendEnergy = pd.read_csv(path_to_dfs + \"allSims_at_maxBendEnergy.csv\")\n",
    "allSims_at_final = pd.read_csv(path_to_dfs + \"allSims_at_final.csv\")\n"
   ]
  },
  {
   "cell_type": "markdown",
   "metadata": {},
   "source": [
    "# Representative plots"
   ]
  },
  {
   "cell_type": "code",
   "execution_count": 28,
   "metadata": {},
   "outputs": [
    {
     "name": "stdout",
     "output_type": "stream",
     "text": [
      "iteration 0\n"
     ]
    },
    {
     "data": {
      "image/png": "[encoded data removed]",
      "text/plain": [
       "<Figure size 184.252x141.732 with 16 Axes>"
      ]
     },
     "metadata": {
      "needs_background": "light"
     },
     "output_type": "display_data"
    }
   ],
   "source": [
    "%matplotlib inline\n",
    "\n",
    "seed = 10\n",
    "np.random.seed(seed)\n",
    "\n",
    "figsize = (6.5*cm_, 5*cm_)\n",
    "\n",
    "#define the timepoint\n",
    "#suffix = \"_at_final\"\n",
    "suffix = \"_at_maxBendEnergy\"\n",
    "\n",
    "#open pdf \n",
    "from matplotlib.backends.backend_pdf import PdfPages\n",
    "pdf_doc = PdfPages(\"plots/CFM_K_vs_g_all_seeds\" + suffix + \".pdf\")\n",
    "\n",
    "\n",
    "#define the conditions\n",
    "rows_param = 'K'\n",
    "cols_param = 'germ_band_push'\n",
    "\n",
    "row_vals = np.flip(np.sort(np.unique(allSims_at_maxBendEnergy[rows_param])))[[0,2,4,6,8]]#[[10,8,6,4,2]] #2,4,6,8,10 #[1.4e-4, 1.2e-4, 1e-4, 0.8e-4, 0.6e-4 ]\n",
    "col_vals = [0, 0.2, 0.4]#np.sort(np.unique(allSims_at_maxBendEnergy[cols_param]))\n",
    "allSims_at_maxBendEnergy_filter = allSims_at_maxBendEnergy.query(f\"{rows_param} in @row_vals and {cols_param} in @col_vals\")#filter\n",
    "allSims_at_maxBendEnergy_filter.loc[:,\"plotted_boolean\"] = 0\n",
    "\n",
    "\n",
    "\n",
    "nb_seeds_per_cond = 1#20\n",
    "\n",
    "for i in range(nb_seeds_per_cond):\n",
    "    \n",
    "    print(\"iteration\",i)\n",
    "    \n",
    "    fig,axs = plt.subplots(len(row_vals), len(col_vals),\n",
    "                           figsize = figsize #(5*len(col_vals), (10/3)*len(row_vals))\n",
    "                          )\n",
    "\n",
    "\n",
    "    main_ax = fig.add_subplot(111, frameon=True, alpha = 0.5)\n",
    "    main_ax.set_facecolor('none')\n",
    "\n",
    "    #plt.xlabel('slope', fontsize = 60, labelpad = 80)\n",
    "    #plt.xlabel(cols_param, fontsize = 40, labelpad = 30)\n",
    "    plt.xlabel(r'$g$', fontsize = Medium_font_size, labelpad = Small_font_size/2)\n",
    "    plt.ylabel(r'$K_b^*$', fontsize = Medium_font_size, labelpad = Medium_font_size, rotation = 0)\n",
    "    # + \"\\n\" + r\"$(\\times10^{-4})$\"\n",
    "    #plt.ylabel('thickness', fontsize = 60, labelpad = 80)\n",
    "\n",
    "    plt.xlim(-0.5,len(col_vals) -0.5)\n",
    "    plt.ylim(-0.5, len(row_vals) -0.5)\n",
    "\n",
    "\n",
    "    #tick_intervals_x = [round(x,2) for x in col_vals]\n",
    "    tick_intervals_x = col_vals\n",
    "    tick_intervals_y = np.sort(row_vals) #[round(x,2) for x in row_vals]\n",
    "\n",
    "    #tick_intervals_x_str = [str(round(x,3)) for x in col_vals]\n",
    "    #tick_intervals_x_str = ['%.1E' % Decimal(str(x)) for x in col_vals]\n",
    "    tick_intervals_x_str = [str(round(x,2)) for x in tick_intervals_x]\n",
    "    tick_intervals_y_str = [str(round(x/(1e-4),2)) for x in tick_intervals_y]\n",
    "\n",
    "    plt.xticks(range(len(col_vals)), tick_intervals_x_str, fontsize = Medium_font_size, )#labelpad = Small_font_size/2)\n",
    "    #plt.yticks(tick_intervals_x, [r'$8.5 \\times 10^{-5}$', r'$1 \\times 10^{-4}$', r'$1.15 \\times 10^{-4}$'], fontsize = 16)\n",
    "    plt.yticks(range(len(row_vals)), tick_intervals_y_str, fontsize = Medium_font_size, )#labelpad = Small_font_size/2)\n",
    "\n",
    "    main_ax.tick_params(axis=u'both', which=u'both',length=Small_font_size/2, pad = Small_font_size/2)\n",
    "\n",
    "    # Hide the right and top spines\n",
    "    main_ax.spines['right'].set_visible(False)\n",
    "    main_ax.spines['top'].set_visible(False)\n",
    "    # Only show ticks on the left and bottom spines\n",
    "    main_ax.yaxis.set_ticks_position('left')\n",
    "    main_ax.xaxis.set_ticks_position('bottom')\n",
    "\n",
    "    #main_ax.set_title(\"t at \" + suffix)\n",
    "\n",
    "    for i in range(len(row_vals)):\n",
    "        row_val = row_vals[i]\n",
    "        for j in range(len(col_vals)):       \n",
    "            col_val = col_vals[j]\n",
    "            if (len(row_vals) > 1) & (len(col_vals) > 1):\n",
    "                ax = axs[i,j]\n",
    "            if (len(row_vals) == 1) & (len(col_vals) > 1):\n",
    "                ax = axs[j]\n",
    "            if (len(row_vals) > 1) & (len(col_vals) == 1):\n",
    "                ax = axs[i]\n",
    "\n",
    "            ax.axis(\"off\")\n",
    "            ax.set_aspect('equal')\n",
    "            #select a seed\n",
    "            paths = np.unique(allSims_at_maxBendEnergy_filter.query(f\"{rows_param} == @row_val and {cols_param} == @col_val and plotted_boolean == 0\")[\"path\"].values)#allSims_at_maxBendEnergy[((allSims_at_maxBendEnergy[\"K\"] == K) & (allSims_at_maxBendEnergy[\"germ_band_push\"] == germ_band_push)) & (allSims_at_maxBendEnergy[\"nb_folds\" + suffix] == round(nb_folds_mean))][\"path\"].values\n",
    "            if len(paths) == 0:\n",
    "                print(f\"No sim for {rows_param} == {row_val} and {cols_param} == {col_val}\")\n",
    "                continue\n",
    "            chosen_path = np.random.choice(paths)\n",
    "            allSims_at_maxBendEnergy_filter.loc[allSims_at_maxBendEnergy_filter[\"path\"] == chosen_path,\"plotted_boolean\"] = 1\n",
    "            #print(path)\n",
    "            df_timepoint = allSims_at_maxBendEnergy_filter[allSims_at_maxBendEnergy_filter[\"path\"] == chosen_path]#pd.read_csv(path + \"balls_w_fold_analysis\" + suffix + \".csv\")\n",
    "            #plot\n",
    "            #plot vitelline membrane\n",
    "            thetas = np.linspace(0, np.pi, 1000)\n",
    "            vit_x = np.cos(thetas)\n",
    "            vit_y = 0.4*np.sin(thetas)\n",
    "            ax.plot(1.02*vit_x, 1.02*vit_y, lw = lw, alpha = 1, color = \"#d7d8dc\", zorder = 0)\n",
    "            #plot segments\n",
    "            points_1 = np.array(df_timepoint[['x', 'y']]).reshape(-1, 1, 2)[:-1]\n",
    "            points_2 = np.array(df_timepoint[['x', 'y']]).reshape(-1, 1, 2)[1:]\n",
    "            #create a collection of lines\n",
    "            segments_demo = np.concatenate([points_1, points_2], axis = 1)\n",
    "            #value by which to color lines\n",
    "            #dydx = df_timepoint[\"d_r_mod\"][:-1]/df_timepoint[\"dr0\"][:-1]\n",
    "            colors = np.where(df_timepoint[\"mitotic_domain_id\"] == -1, \"#373f51\", \"#ff6978\")\n",
    "            #make line collection\n",
    "            #lc = LineCollection(segments_demo, array = dydx,cmap=cmap, norm=norm,alpha = alpha,lw = lw,)\n",
    "            lc = LineCollection(segments_demo, colors =colors,alpha = 1,linewidths=lw)\n",
    "            line = ax.add_collection(lc)\n",
    "            #ax.text(x = 0, y = 0.6, s = \"seed = \"+str(allSims_at_maxBendEnergy_filter.loc[chosen_ind, \"seed\"]), )\n",
    "\n",
    "    #fig.tight_layout()\n",
    "    pdf_doc.savefig(fig, bbox_inches = \"tight\")\n",
    "\n",
    "pdf_doc.close()\n"
   ]
  },
  {
   "cell_type": "code",
   "execution_count": 29,
   "metadata": {},
   "outputs": [
    {
     "name": "stdout",
     "output_type": "stream",
     "text": [
      "iteration 0\n"
     ]
    },
    {
     "data": {
      "image/png": "[encoded data removed]",
      "text/plain": [
       "<Figure size 184.252x141.732 with 16 Axes>"
      ]
     },
     "metadata": {
      "needs_background": "light"
     },
     "output_type": "display_data"
    }
   ],
   "source": [
    "%matplotlib inline\n",
    "\n",
    "seed = 0\n",
    "np.random.seed(seed)\n",
    "\n",
    "figsize = (6.5*cm_, 5*cm_)\n",
    "\n",
    "#define the timepoint\n",
    "#suffix = \"_at_final\"\n",
    "suffix = \"_at_final\"\n",
    "\n",
    "#open pdf \n",
    "from matplotlib.backends.backend_pdf import PdfPages\n",
    "pdf_doc = PdfPages(\"plots/CFM_K_vs_g_all_seeds\" + suffix + \".pdf\")\n",
    "\n",
    "\n",
    "#define the conditions\n",
    "rows_param = 'K'\n",
    "cols_param = 'germ_band_push'\n",
    "\n",
    "row_vals = np.flip(np.sort(np.unique(allSims_at_final[rows_param])))[[0,2,4,6,8]]#[[10,8,6,4,2]] #2,4,6,8,10 #[1.4e-4, 1.2e-4, 1e-4, 0.8e-4, 0.6e-4 ]\n",
    "col_vals = [0, 0.2, 0.4]#np.sort(np.unique(allSims_at_final[cols_param]))\n",
    "allSims_at_final_filter = allSims_at_final.query(f\"{rows_param} in @row_vals and {cols_param} in @col_vals\")#filter\n",
    "allSims_at_final_filter.loc[:,\"plotted_boolean\"] = 0\n",
    "\n",
    "\n",
    "\n",
    "nb_seeds_per_cond = 1#20\n",
    "\n",
    "for i in range(nb_seeds_per_cond):\n",
    "    \n",
    "    print(\"iteration\",i)\n",
    "    \n",
    "    fig,axs = plt.subplots(len(row_vals), len(col_vals),\n",
    "                           figsize = figsize #(5*len(col_vals), (10/3)*len(row_vals))\n",
    "                          )\n",
    "\n",
    "\n",
    "    main_ax = fig.add_subplot(111, frameon=True, alpha = 0.5)\n",
    "    main_ax.set_facecolor('none')\n",
    "\n",
    "    #plt.xlabel('slope', fontsize = 60, labelpad = 80)\n",
    "    #plt.xlabel(cols_param, fontsize = 40, labelpad = 30)\n",
    "    plt.xlabel(r'$g$', fontsize = Medium_font_size, labelpad = Small_font_size/2)\n",
    "    plt.ylabel(r'$K_b^*$', fontsize = Medium_font_size, labelpad = Medium_font_size, rotation = 0)\n",
    "    # + \"\\n\" + r\"$(\\times10^{-4})$\"\n",
    "    #plt.ylabel('thickness', fontsize = 60, labelpad = 80)\n",
    "\n",
    "    plt.xlim(-0.5,len(col_vals) -0.5)\n",
    "    plt.ylim(-0.5, len(row_vals) -0.5)\n",
    "\n",
    "\n",
    "    #tick_intervals_x = [round(x,2) for x in col_vals]\n",
    "    tick_intervals_x = col_vals\n",
    "    tick_intervals_y = np.sort(row_vals) #[round(x,2) for x in row_vals]\n",
    "\n",
    "    #tick_intervals_x_str = [str(round(x,3)) for x in col_vals]\n",
    "    #tick_intervals_x_str = ['%.1E' % Decimal(str(x)) for x in col_vals]\n",
    "    tick_intervals_x_str = [str(round(x,2)) for x in tick_intervals_x]\n",
    "    tick_intervals_y_str = [str(round(x/(1e-4),2)) for x in tick_intervals_y]\n",
    "\n",
    "    plt.xticks(range(len(col_vals)), tick_intervals_x_str, fontsize = Medium_font_size, )#labelpad = Small_font_size/2)\n",
    "    #plt.yticks(tick_intervals_x, [r'$8.5 \\times 10^{-5}$', r'$1 \\times 10^{-4}$', r'$1.15 \\times 10^{-4}$'], fontsize = 16)\n",
    "    plt.yticks(range(len(row_vals)), tick_intervals_y_str, fontsize = Medium_font_size, )#labelpad = Small_font_size/2)\n",
    "\n",
    "    main_ax.tick_params(axis=u'both', which=u'both',length=Small_font_size/2, pad = Small_font_size/2)\n",
    "\n",
    "    # Hide the right and top spines\n",
    "    main_ax.spines['right'].set_visible(False)\n",
    "    main_ax.spines['top'].set_visible(False)\n",
    "    # Only show ticks on the left and bottom spines\n",
    "    main_ax.yaxis.set_ticks_position('left')\n",
    "    main_ax.xaxis.set_ticks_position('bottom')\n",
    "\n",
    "    #main_ax.set_title(\"t at \" + suffix)\n",
    "\n",
    "    for i in range(len(row_vals)):\n",
    "        row_val = row_vals[i]\n",
    "        for j in range(len(col_vals)):       \n",
    "            col_val = col_vals[j]\n",
    "            if (len(row_vals) > 1) & (len(col_vals) > 1):\n",
    "                ax = axs[i,j]\n",
    "            if (len(row_vals) == 1) & (len(col_vals) > 1):\n",
    "                ax = axs[j]\n",
    "            if (len(row_vals) > 1) & (len(col_vals) == 1):\n",
    "                ax = axs[i]\n",
    "\n",
    "            ax.axis(\"off\")\n",
    "            ax.set_aspect('equal')\n",
    "            #select a seed\n",
    "            paths = np.unique(allSims_at_final_filter.query(f\"{rows_param} == @row_val and {cols_param} == @col_val and plotted_boolean == 0\")[\"path\"].values)#allSims_at_final[((allSims_at_final[\"K\"] == K) & (allSims_at_final[\"germ_band_push\"] == germ_band_push)) & (allSims_at_final[\"nb_folds\" + suffix] == round(nb_folds_mean))][\"path\"].values\n",
    "            if len(paths) == 0:\n",
    "                print(f\"No sim for {rows_param} == {row_val} and {cols_param} == {col_val}\")\n",
    "                continue\n",
    "            chosen_path = np.random.choice(paths)\n",
    "            allSims_at_final_filter.loc[allSims_at_final_filter[\"path\"] == chosen_path,\"plotted_boolean\"] = 1\n",
    "            #print(path)\n",
    "            df_timepoint = allSims_at_final_filter[allSims_at_final_filter[\"path\"] == chosen_path]#pd.read_csv(path + \"balls_w_fold_analysis\" + suffix + \".csv\")\n",
    "            #plot\n",
    "            #plot vitelline membrane\n",
    "            thetas = np.linspace(0, np.pi, 1000)\n",
    "            vit_x = np.cos(thetas)\n",
    "            vit_y = 0.4*np.sin(thetas)\n",
    "            ax.plot(1.02*vit_x, 1.02*vit_y, lw = lw, alpha = 1, color = \"#d7d8dc\", zorder = 0)\n",
    "            #plot segments\n",
    "            points_1 = np.array(df_timepoint[['x', 'y']]).reshape(-1, 1, 2)[:-1]\n",
    "            points_2 = np.array(df_timepoint[['x', 'y']]).reshape(-1, 1, 2)[1:]\n",
    "            #create a collection of lines\n",
    "            segments_demo = np.concatenate([points_1, points_2], axis = 1)\n",
    "            #value by which to color lines\n",
    "            #dydx = df_timepoint[\"d_r_mod\"][:-1]/df_timepoint[\"dr0\"][:-1]\n",
    "            colors = np.where(df_timepoint[\"mitotic_domain_id\"] == -1, \"#373f51\", \"#ff6978\")\n",
    "            #make line collection\n",
    "            #lc = LineCollection(segments_demo, array = dydx,cmap=cmap, norm=norm,alpha = alpha,lw = lw,)\n",
    "            lc = LineCollection(segments_demo, colors =colors,alpha = 1,linewidths=lw)\n",
    "            line = ax.add_collection(lc)\n",
    "            #ax.text(x = 0, y = 0.6, s = \"seed = \"+str(allSims_at_final_filter.loc[chosen_ind, \"seed\"]), )\n",
    "\n",
    "    #fig.tight_layout()\n",
    "    pdf_doc.savefig(fig, bbox_inches = \"tight\")\n",
    "\n",
    "pdf_doc.close()\n"
   ]
  },
  {
   "cell_type": "markdown",
   "metadata": {},
   "source": [
    "# Number of folds - parameter sweep"
   ]
  },
  {
   "cell_type": "code",
   "execution_count": 30,
   "metadata": {},
   "outputs": [],
   "source": [
    "suffix = \"_at_maxBendEnergy\"\n",
    "av_folds_pv = group_K_g.pivot(index=\"K\", columns=\"germ_band_push\", values=\"nb_folds\"+suffix)\n",
    "av_folds_pv = av_folds_pv.sort_index(ascending = False)\n",
    "x = av_folds_pv.columns\n",
    "y = av_folds_pv.index.values\n",
    "Z = av_folds_pv.values"
   ]
  },
  {
   "cell_type": "code",
   "execution_count": 31,
   "metadata": {},
   "outputs": [
    {
     "data": {
      "image/png": "[encoded data removed]",
      "text/plain": [
       "<Figure size 184.252x141.732 with 2 Axes>"
      ]
     },
     "metadata": {
      "needs_background": "light"
     },
     "output_type": "display_data"
    }
   ],
   "source": [
    "figsize = (6.5*cm_, 5*cm_)\n",
    "cmap = plt.get_cmap('inferno')\n",
    "norm = matplotlib.colors.Normalize(vmin=0, vmax=2)#BoundaryNorm(levels, ncolors=cmap.N, clip=True)\n",
    "\n",
    "fig, ax = plt.subplots(figsize = figsize)\n",
    "ax.tick_params(axis='both', which='major', labelsize=Medium_font_size, pad = Small_font_size/2, length = Small_font_size/2)\n",
    "im = ax.pcolormesh(x, y, Z, cmap=cmap, norm=norm, shading = \"auto\")\n",
    "cbar = fig.colorbar(im, ax=ax,)\n",
    "#ax.set_yticks()\n",
    "yticks = np.array([0.6,0.8,1,1.2,1.4])*1e-4\n",
    "xticks = [0,0.2,0.4]\n",
    "ax.set_yticks(yticks)\n",
    "_=ax.set_yticklabels([np.round(x/(1e-4),2) for x in yticks],)\n",
    "ax.set_xticks(xticks)\n",
    "_=ax.set_xticklabels([np.round(x,1) for x in xticks],)\n",
    "\n",
    "cbar.set_ticks([0,1,2])\n",
    "cbar.ax.tick_params(labelsize=Medium_font_size, length = Small_font_size/20, pad = Small_font_size/2)\n",
    "_=ax.set_xlabel(r\"$g$\",fontsize = Medium_font_size, labelpad = Small_font_size/100)\n",
    "_=ax.set_ylabel(r\"$K_b^{*}$\", fontsize = Medium_font_size, labelpad = Small_font_size, rotation = 0)\n",
    "os.makedirs(\"plots/\", exist_ok=True)\n",
    "#ax.set_title(\"Nb folds\", fontsize = Small_font_size)\n",
    "cbar.ax.set_ylabel('# folds', rotation=90, fontsize = Medium_font_size)\n",
    "plt.savefig(\"plots/CFM_Nb_folds.pdf\", bbox_inches = \"tight\")"
   ]
  },
  {
   "cell_type": "markdown",
   "metadata": {},
   "source": [
    "# Number of folds for $K_b^{*} = 10^{-4}$\n",
    "\n",
    "What is the value of $K_b^{*}$ at which the mean number of folds is less than 1? - $K_b^{*} = 10^{-4}$"
   ]
  },
  {
   "cell_type": "code",
   "execution_count": 32,
   "metadata": {},
   "outputs": [],
   "source": [
    "#compare with double mutant\n",
    "#upload double mutant data\n",
    "\n",
    "group_K_g_double_mutant = pd.read_csv(global_path_to_repo + \"simulation_data/double_mutant/dfs/avg_prop_over_K_and_g_combination.csv\")\n",
    "grouped_df_double_mutant = pd.read_csv(global_path_to_repo + \"simulation_data/double_mutant/dfs/avg_prop_over_each_sim.csv\")"
   ]
  },
  {
   "cell_type": "code",
   "execution_count": 33,
   "metadata": {},
   "outputs": [
    {
     "data": {
      "image/png": "[encoded data removed]",
      "text/plain": [
       "<Figure size 141.732x99.2126 with 1 Axes>"
      ]
     },
     "metadata": {
      "needs_background": "light"
     },
     "output_type": "display_data"
    }
   ],
   "source": [
    "figsize = (5*cm_, 3.5*cm_)\n",
    "#CF mutant\n",
    "df_g_0 = group_K_g[group_K_g[\"germ_band_push\"] == 0]\n",
    "error_style = \"errorbar\"\n",
    "\n",
    "fig,ax = plt.subplots(figsize=figsize)\n",
    "\n",
    "x_col = \"K\"\n",
    "y_col = \"nb_folds_at_maxBendEnergy\"\n",
    "yerr = \"nb_folds_at_maxBendEnergy_std\"\n",
    "ax.plot(df_g_0[x_col], df_g_0[y_col], color = \"#663399\", label = \"+MD, -g\", lw = lw ) #lw = 2\n",
    "\n",
    "if error_style == 'fill_between':\n",
    "    ax.fill_between(df_g_0[x_col], df_g_0[y_col] - df_g_0[yerr], df_g_0[y_col] + df_g_0[yerr], color = \"#663399\", alpha = 0.5)            \n",
    "elif error_style == 'errorbar':\n",
    "    ax.errorbar(x = df_g_0[x_col], y = df_g_0[y_col], xerr = 0, yerr = df_g_0[yerr], color = \"#663399\", lw = lw)\n",
    "    \n",
    "ax.axhline(y = 1, xmin = 0.03, xmax = 0.97, color = \"gray\", linestyle = \"--\", lw = lw, zorder = 0)\n",
    "\n",
    "xticks = np.array([0.6, 1.0, 1.4])*1e-4\n",
    "yticks = [0, 1, 2]\n",
    "ax.set_xticks(xticks)\n",
    "ax.set_yticks(yticks)\n",
    "ax.set_xticklabels([str(np.round(x/(1e-4),1)) for x in xticks], fontsize = Medium_font_size)\n",
    "ax.set_yticklabels([str(x) for x in yticks], fontsize = Medium_font_size)\n",
    "ax.tick_params(axis='both', which='major', labelsize=Medium_font_size)\n",
    "ax.set_ylabel(\"# folds\", fontsize = Medium_font_size) #labelpad = Medium_font_size\n",
    "ax.set_xlabel(r\"$K_b^{*}$\" + \" \" + r\"$(10^{-4})$\", fontsize = Medium_font_size) #labelpad= Medium_font_size \n",
    "#ax.legend(fontsize = Medium_font_size, ncol = 2, loc = \"upper center\")\n",
    "\n",
    "#plt.gcf().set_size_inches(3*cm, 2*cm)\n",
    "\n",
    "os.makedirs(\"plots/\", exist_ok=True)\n",
    "plt.savefig(\"plots/CFM_nb_folds_vs_K.pdf\", bbox_inches = \"tight\")"
   ]
  },
  {
   "cell_type": "markdown",
   "metadata": {},
   "source": [
    "At $K_b^{*} = 10^{-4}$, how does number of folds compare between double mutant(-MD) and CF mutant(+MD).\n",
    "\n",
    "We see higher number of folds in presence of MD. "
   ]
  },
  {
   "cell_type": "code",
   "execution_count": 34,
   "metadata": {},
   "outputs": [
    {
     "data": {
      "image/png": "[encoded data removed]",
      "text/plain": [
       "<Figure size 141.732x99.2126 with 1 Axes>"
      ]
     },
     "metadata": {
      "needs_background": "light"
     },
     "output_type": "display_data"
    }
   ],
   "source": [
    "#try this for 1.1e-4 and 1.2e-4\n",
    "\n",
    "figsize = (5*cm_, 3.5*cm_)\n",
    "#CF mutant\n",
    "K = 1e-4\n",
    "df_K = group_K_g[group_K_g[\"K\"] == K]\n",
    "df_all_K = grouped_df[grouped_df[\"K\"] == K]\n",
    "#double mutant\n",
    "df_K_double_mutant = group_K_g_double_mutant[group_K_g_double_mutant[\"K\"] == K]\n",
    "df_all_K_double_mutant = grouped_df_double_mutant[grouped_df_double_mutant[\"K\"] == K]\n",
    "error_style = \"errorbar\"\n",
    "\n",
    "fig,ax = plt.subplots(figsize=figsize)\n",
    "\n",
    "x_col = \"germ_band_push\"\n",
    "y_col = \"nb_folds_at_maxBendEnergy\"\n",
    "yerr = \"nb_folds_at_maxBendEnergy_std\"\n",
    "ax.plot(df_K[x_col], df_K[y_col], color = \"#FB607F\", label = \"+MD\", lw =lw) #lw = 2\n",
    "#double mutant\n",
    "#ax.plot(df_K_double_mutant[x_col], df_K_double_mutant[y_col], color = \"#3EB488\", label = \"-MD\", lw =lw) #lw = 2\n",
    "\n",
    "if error_style == 'fill_between':\n",
    "    ax.fill_between(df_K[x_col], df_K[y_col] - df_K[yerr], df_K[y_col] + df_K[yerr], color = \"#FB607F\", alpha = 0.5)            \n",
    "    #ax.fill_between(df_K_double_mutant[x_col], df_K_double_mutant[y_col] - df_K_double_mutant[yerr], df_K_double_mutant[y_col] + df_K_double_mutant[yerr], color = \"gray\", alpha = 0.5)            \n",
    "elif error_style == 'errorbar':\n",
    "    ax.errorbar(x = df_K[x_col], y = df_K[y_col], xerr = 0, yerr = df_K[yerr], color = \"#FB607F\",lw = lw)\n",
    "    #ax.errorbar(x = df_K_double_mutant[x_col], y = df_K_double_mutant[y_col], xerr = 0, yerr = df_K_double_mutant[yerr], color = \"#3EB488\",lw = lw)\n",
    "\n",
    "ax.axhline(y = 1, xmin = 0.03, xmax = 0.97, color = \"gray\", linestyle = \"--\", lw = 1, zorder = 0)\n",
    "\n",
    "xticks = [0,0.2,0.4]\n",
    "yticks = [0, 1, 2]\n",
    "ax.set_xticks(xticks)\n",
    "ax.set_yticks(yticks)\n",
    "ax.set_xticklabels([str(x) for x in xticks], fontsize = Medium_font_size)\n",
    "ax.set_yticklabels([str(x) for x in yticks], fontsize = Medium_font_size)\n",
    "ax.tick_params(axis='both', which='major', labelsize=Medium_font_size)\n",
    "ax.set_ylabel(\"# folds\", fontsize = Medium_font_size) #labelpad = Medium_font_size\n",
    "ax.set_xlabel(r\"$g$\", fontsize = Medium_font_size) #labelpad= Medium_font_size \n",
    "#ax.legend(fontsize = Medium_font_size, ncol = 2, loc = \"upper center\")\n",
    "\n",
    "#plt.gcf().set_size_inches(3*cm, 2*cm)\n",
    "\n",
    "os.makedirs(\"plots/\", exist_ok=True)\n",
    "plt.savefig(\"plots/CFM_nb_folds_vs_g.pdf\", bbox_inches = \"tight\")"
   ]
  },
  {
   "cell_type": "code",
   "execution_count": 35,
   "metadata": {},
   "outputs": [
    {
     "data": {
      "image/png": "[encoded data removed]",
      "text/plain": [
       "<Figure size 141.732x99.2126 with 1 Axes>"
      ]
     },
     "metadata": {
      "needs_background": "light"
     },
     "output_type": "display_data"
    }
   ],
   "source": [
    "#try this for 1.1e-4 and 1.2e-4\n",
    "\n",
    "figsize = (5*cm_, 3.5*cm_)\n",
    "#CF mutant\n",
    "K = 1e-4\n",
    "df_K = group_K_g[group_K_g[\"K\"] == K]\n",
    "df_all_K = grouped_df[grouped_df[\"K\"] == K]\n",
    "#double mutant\n",
    "df_K_double_mutant = group_K_g_double_mutant[group_K_g_double_mutant[\"K\"] == K]\n",
    "df_all_K_double_mutant = grouped_df_double_mutant[grouped_df_double_mutant[\"K\"] == K]\n",
    "error_style = \"errorbar\"\n",
    "\n",
    "fig,ax = plt.subplots(figsize=figsize)\n",
    "\n",
    "x_col = \"germ_band_push\"\n",
    "y_col = \"nb_folds_at_maxBendEnergy\"\n",
    "yerr = \"nb_folds_at_maxBendEnergy_std\"\n",
    "#ax.plot(df_K[x_col], df_K[y_col], color = \"black\", label = \"+MD\", lw =lw, linestyle = \"-\") #lw = 2\n",
    "#double mutant\n",
    "#ax.plot(df_K_double_mutant[x_col], df_K_double_mutant[y_col], color = \"black\", label = \"-MD\", lw =lw, linestyle = \"--\") #lw = 2\n",
    "\n",
    "if error_style == 'fill_between':\n",
    "    ax.fill_between(df_K[x_col], df_K[y_col] - df_K[yerr], df_K[y_col] + df_K[yerr], color = \"#FB607F\", alpha = 0.5)            \n",
    "    ax.fill_between(df_K_double_mutant[x_col], df_K_double_mutant[y_col] - df_K_double_mutant[yerr], df_K_double_mutant[y_col] + df_K_double_mutant[yerr], color = \"gray\", alpha = 0.5)            \n",
    "elif error_style == 'errorbar':\n",
    "    ax.errorbar(x = df_K[x_col], y = df_K[y_col], xerr = 0, yerr = df_K[yerr], color = \"black\",lw = lw, linestyle = \"-\")\n",
    "    ax.errorbar(x = df_K_double_mutant[x_col], y = df_K_double_mutant[y_col], xerr = 0, yerr = df_K_double_mutant[yerr], color = \"black\",lw = lw, linestyle = \"--\")\n",
    "\n",
    "#ax.axhline(y = 1, xmin = 0.03, xmax = 0.97, color = \"gray\", linestyle = \"--\", lw = 1, zorder = 0)\n",
    "\n",
    "xticks = [0,0.2,0.4]\n",
    "yticks = [0, 1, 2]\n",
    "ax.set_xticks(xticks)\n",
    "ax.set_yticks(yticks)\n",
    "ax.set_xticklabels([str(x) for x in xticks], fontsize = Medium_font_size)\n",
    "ax.set_yticklabels([str(x) for x in yticks], fontsize = Medium_font_size)\n",
    "ax.tick_params(axis='both', which='major', labelsize=Medium_font_size)\n",
    "ax.set_ylabel(\"# folds\", fontsize = Medium_font_size) #labelpad = Medium_font_size\n",
    "ax.set_xlabel(r\"$g$\", fontsize = Medium_font_size) #labelpad= Medium_font_size \n",
    "#ax.legend(fontsize = Medium_font_size, ncol = 2, loc = \"upper center\")\n",
    "\n",
    "#plt.gcf().set_size_inches(3*cm, 2*cm)\n",
    "\n",
    "os.makedirs(\"plots/\", exist_ok=True)\n",
    "plt.savefig(\"plots/DM_CFM_nb_folds_vs_g_bw.pdf\", bbox_inches = \"tight\")"
   ]
  },
  {
   "cell_type": "markdown",
   "metadata": {},
   "source": [
    "# Timing of folds\n",
    "\n",
    "For CF mutant at $K_b^{*} = 10^{-4}$, we don't see a change in the number of folds for different values of $g$.\n",
    "\n",
    "However,we see that for low values of $g$, it takes longer for the folds to appear. \n",
    "\n",
    "Thus in absence of $g$ and only with MD, we will see folds but at longer waiting times.\n",
    "\n",
    "We can also see that in absence of MD, it takes longer for folds to appear."
   ]
  },
  {
   "cell_type": "code",
   "execution_count": 36,
   "metadata": {},
   "outputs": [
    {
     "data": {
      "image/png": "[encoded data removed]",
      "text/plain": [
       "<Figure size 141.732x99.2126 with 1 Axes>"
      ]
     },
     "metadata": {
      "needs_background": "light"
     },
     "output_type": "display_data"
    }
   ],
   "source": [
    "#try this for 1.1e-4 and 1.2e-4\n",
    "\n",
    "figsize = (5*cm_, 3.5*cm_)\n",
    "\n",
    "#CF mutant\n",
    "K = 1e-4\n",
    "df_K = group_K_g[group_K_g[\"K\"] == K]\n",
    "df_all_K = grouped_df[grouped_df[\"K\"] == K]\n",
    "#double mutant\n",
    "df_K_double_mutant = group_K_g_double_mutant[group_K_g_double_mutant[\"K\"] == K]\n",
    "df_all_K_double_mutant = grouped_df_double_mutant[grouped_df_double_mutant[\"K\"] == K]\n",
    "error_style = \"errorbar\"\n",
    "\n",
    "fig,ax = plt.subplots(figsize=figsize)\n",
    "\n",
    "x_col = \"germ_band_push\"\n",
    "y_col = \"t_at_maxBendEnergy\"\n",
    "yerr = \"t_at_maxBendEnergy_std\"\n",
    "ax.plot(df_K[x_col], df_K[y_col], color = \"#FB607F\", label = \"+MD\", lw =lw) #lw = 2\n",
    "#double mutant\n",
    "ax.plot(df_K_double_mutant[x_col], df_K_double_mutant[y_col], color = \"#3EB488\", label = \"-MD\", lw =lw) #lw = 2\n",
    "\n",
    "if error_style == 'fill_between':\n",
    "    ax.fill_between(df_K[x_col], df_K[y_col] - df_K[yerr], df_K[y_col] + df_K[yerr], color = \"#FB607F\", alpha = 0.5)            \n",
    "    #ax.fill_between(df_K_double_mutant[x_col], df_K_double_mutant[y_col] - df_K_double_mutant[yerr], df_K_double_mutant[y_col] + df_K_double_mutant[yerr], color = \"gray\", alpha = 0.5)            \n",
    "elif error_style == 'errorbar':\n",
    "    ax.errorbar(x = df_K[x_col], y = df_K[y_col], xerr = 0, yerr = df_K[yerr], color = \"#FB607F\",lw = lw)\n",
    "    ax.errorbar(x = df_K_double_mutant[x_col], y = df_K_double_mutant[y_col], xerr = 0, yerr = df_K_double_mutant[yerr], color = \"#3EB488\",lw = lw)\n",
    "\n",
    "#ax.axhline(y = 1, xmin = 0.03, xmax = 0.97, color = \"gray\", linestyle = \"--\", lw = 1, zorder = 0)\n",
    "\n",
    "xticks = [0,0.2,0.4]\n",
    "#yticks = [0, 1, 2]\n",
    "ax.set_xticks(xticks)\n",
    "#ax.set_yticks(yticks)\n",
    "ax.set_xticklabels([str(x) for x in xticks], fontsize = Medium_font_size)\n",
    "#ax.set_yticklabels([str(x) for x in yticks], fontsize = Medium_font_size)\n",
    "ax.tick_params(axis='both', which='major', labelsize=Medium_font_size)\n",
    "ax.set_ylabel(\"t (fold)\", fontsize = Medium_font_size) #labelpad = Medium_font_size\n",
    "ax.set_xlabel(r\"$g$\", fontsize = Medium_font_size) #labelpad= Medium_font_size \n",
    "#ax.legend(fontsize = Medium_font_size, ncol = 2, loc = \"upper center\")\n",
    "\n",
    "#plt.gcf().set_size_inches(3*cm, 2*cm)\n",
    "\n",
    "os.makedirs(\"plots/\", exist_ok=True)\n",
    "plt.savefig(\"plots/CFM_t_maxBendEnergy_vs_g.pdf\", bbox_inches = \"tight\")"
   ]
  },
  {
   "cell_type": "code",
   "execution_count": 37,
   "metadata": {},
   "outputs": [
    {
     "data": {
      "image/png": "[encoded data removed]",
      "text/plain": [
       "<Figure size 141.732x99.2126 with 1 Axes>"
      ]
     },
     "metadata": {
      "needs_background": "light"
     },
     "output_type": "display_data"
    }
   ],
   "source": [
    "#try this for 1.1e-4 and 1.2e-4\n",
    "\n",
    "figsize = (5*cm_, 3.5*cm_)\n",
    "\n",
    "#CF mutant\n",
    "K = 1e-4\n",
    "df_K = group_K_g[group_K_g[\"K\"] == K]\n",
    "df_all_K = grouped_df[grouped_df[\"K\"] == K]\n",
    "#double mutant\n",
    "df_K_double_mutant = group_K_g_double_mutant[group_K_g_double_mutant[\"K\"] == K]\n",
    "df_all_K_double_mutant = grouped_df_double_mutant[grouped_df_double_mutant[\"K\"] == K]\n",
    "error_style = \"errorbar\"\n",
    "\n",
    "fig,ax = plt.subplots(figsize=figsize)\n",
    "\n",
    "x_col = \"germ_band_push\"\n",
    "y_col = \"t_at_maxBendEnergy\"\n",
    "yerr = \"t_at_maxBendEnergy_std\"\n",
    "#ax.plot(df_K[x_col], df_K[y_col], color = \"#FB607F\", label = \"+MD\", lw =lw) #lw = 2\n",
    "#double mutant\n",
    "#ax.plot(df_K_double_mutant[x_col], df_K_double_mutant[y_col], color = \"#3EB488\", label = \"-MD\", lw =lw) #lw = 2\n",
    "\n",
    "if error_style == 'fill_between':\n",
    "    ax.fill_between(df_K[x_col], df_K[y_col] - df_K[yerr], df_K[y_col] + df_K[yerr], color = \"#FB607F\", alpha = 0.5)            \n",
    "    #ax.fill_between(df_K_double_mutant[x_col], df_K_double_mutant[y_col] - df_K_double_mutant[yerr], df_K_double_mutant[y_col] + df_K_double_mutant[yerr], color = \"gray\", alpha = 0.5)            \n",
    "elif error_style == 'errorbar':\n",
    "    ax.errorbar(x = df_K[x_col], y = df_K[y_col], xerr = 0, yerr = df_K[yerr], color = \"black\",lw = lw, linestyle = \"-\")\n",
    "    ax.errorbar(x = df_K_double_mutant[x_col], y = df_K_double_mutant[y_col], xerr = 0, yerr = df_K_double_mutant[yerr], color = \"black\",lw = lw, linestyle = \"--\")\n",
    "\n",
    "#ax.axhline(y = 1, xmin = 0.03, xmax = 0.97, color = \"gray\", linestyle = \"--\", lw = 1, zorder = 0)\n",
    "\n",
    "xticks = [0,0.2,0.4]\n",
    "#yticks = [0, 1, 2]\n",
    "ax.set_xticks(xticks)\n",
    "#ax.set_yticks(yticks)\n",
    "ax.set_xticklabels([str(x) for x in xticks], fontsize = Medium_font_size)\n",
    "#ax.set_yticklabels([str(x) for x in yticks], fontsize = Medium_font_size)\n",
    "ax.tick_params(axis='both', which='major', labelsize=Medium_font_size)\n",
    "ax.set_ylabel(\"t (fold)\", fontsize = Medium_font_size) #labelpad = Medium_font_size\n",
    "ax.set_xlabel(r\"$g$\", fontsize = Medium_font_size) #labelpad= Medium_font_size \n",
    "#ax.legend(fontsize = Medium_font_size, ncol = 2, loc = \"upper center\")\n",
    "\n",
    "#plt.gcf().set_size_inches(3*cm, 2*cm)\n",
    "\n",
    "os.makedirs(\"plots/\", exist_ok=True)\n",
    "plt.savefig(\"plots/CFM_t_maxBendEnergy_vs_g_bw.pdf\", bbox_inches = \"tight\")"
   ]
  },
  {
   "cell_type": "code",
   "execution_count": 38,
   "metadata": {},
   "outputs": [
    {
     "data": {
      "image/png": "[encoded data removed]",
      "text/plain": [
       "<Figure size 85.0394x56.6929 with 1 Axes>"
      ]
     },
     "metadata": {
      "needs_background": "light"
     },
     "output_type": "display_data"
    }
   ],
   "source": [
    "#try this for 1.1e-4 and 1.2e-4\n",
    "\n",
    "figsize = (3*cm_, 2*cm_)\n",
    "lw = 0.5\n",
    "#CF mutant\n",
    "K = 1e-4\n",
    "df_K = group_K_g[group_K_g[\"K\"] == K]\n",
    "df_all_K = grouped_df[grouped_df[\"K\"] == K]\n",
    "#double mutant\n",
    "df_K_double_mutant = group_K_g_double_mutant[group_K_g_double_mutant[\"K\"] == K]\n",
    "df_all_K_double_mutant = grouped_df_double_mutant[grouped_df_double_mutant[\"K\"] == K]\n",
    "error_style = \"errorbar\"\n",
    "\n",
    "fig,ax = plt.subplots(figsize=figsize)\n",
    "\n",
    "x_col = \"germ_band_push\"\n",
    "y_col = \"t_at_maxBendEnergy\"\n",
    "yerr = \"t_at_maxBendEnergy_std\"\n",
    "ax.plot(df_K[x_col], df_K[y_col], color = \"#FB607F\", label = \"+MD\", lw =lw) #lw = 2\n",
    "#double mutant\n",
    "ax.plot(df_K_double_mutant[x_col], df_K_double_mutant[y_col], color = \"#3EB488\", label = \"-MD\", lw =lw) #lw = 2\n",
    "\n",
    "if error_style == 'fill_between':\n",
    "    ax.fill_between(df_K[x_col], df_K[y_col] - df_K[yerr], df_K[y_col] + df_K[yerr], color = \"#FB607F\", alpha = 0.5)            \n",
    "    ax.fill_between(df_K_double_mutant[x_col], df_K_double_mutant[y_col] - df_K_double_mutant[yerr], df_K_double_mutant[y_col] + df_K_double_mutant[yerr], color = \"gray\", alpha = 0.5)            \n",
    "elif error_style == 'errorbar':\n",
    "    ax.errorbar(x = df_K[x_col], y = df_K[y_col], xerr = 0, yerr = df_K[yerr], color = \"#FB607F\",lw = lw)\n",
    "    ax.errorbar(x = df_K_double_mutant[x_col], y = df_K_double_mutant[y_col], xerr = 0, yerr = df_K_double_mutant[yerr], color = \"#3EB488\",lw = lw)\n",
    "\n",
    "#ax.axhline(y = 1, xmin = 0.03, xmax = 0.97, color = \"gray\", linestyle = \"--\", lw = 1, zorder = 0)\n",
    "\n",
    "xticks = [0,0.2,0.4]\n",
    "#yticks = [0, 1, 2]\n",
    "ax.set_xticks(xticks)\n",
    "#ax.set_yticks(yticks)\n",
    "ax.set_xticklabels([str(x) for x in xticks], fontsize = Medium_font_size)\n",
    "#ax.set_yticklabels([str(x) for x in yticks], fontsize = Medium_font_size)\n",
    "ax.tick_params(axis='both', which='major', labelsize=Medium_font_size)\n",
    "ax.set_ylabel(\"t (fold)\", fontsize = Medium_font_size) #labelpad = Medium_font_size\n",
    "ax.set_xlabel(r\"$g$\", fontsize = Medium_font_size) #labelpad= Medium_font_size \n",
    "#ax.legend(fontsize = Medium_font_size, ncol = 2, loc = \"upper center\")\n",
    "\n",
    "#plt.gcf().set_size_inches(3*cm, 2*cm)\n",
    "\n",
    "os.makedirs(\"plots/\", exist_ok=True)\n",
    "plt.savefig(\"plots/DM_CFM_t_maxBendEnergy_vs_g.pdf\", bbox_inches = \"tight\")"
   ]
  },
  {
   "cell_type": "markdown",
   "metadata": {},
   "source": [
    "# Number of folds vs bend energy\n",
    "\n",
    "We observe that number of folds don't change considerably after a peak in the bend energy is achieved. \n",
    "\n",
    "Moreover, the fold starts slowing after this timepoint.\n",
    "\n",
    "Hence we take this peak as the time at which we analyse all simulations.\n",
    "\n",
    "- Single curves for three different randomly chosen simulation that have folds at least 1 \n",
    "- First we show mean values"
   ]
  },
  {
   "cell_type": "code",
   "execution_count": 30,
   "metadata": {},
   "outputs": [],
   "source": [
    "def helper_plot_tissue(ax, df_timepoint, alpha, lw = 1, plot_vit = True, label = None, title = None):\n",
    "    \n",
    "\n",
    "    #plot segments\n",
    "    points_1 = np.array(df_timepoint[['x', 'y']]).reshape(-1, 1, 2)[:-1]\n",
    "    points_2 = np.array(df_timepoint[['x', 'y']]).reshape(-1, 1, 2)[1:]\n",
    "    #create a collection of lines\n",
    "    segments_demo = np.concatenate([points_1, points_2], axis = 1)\n",
    "    #value by which to color lines\n",
    "    #dydx = df_timepoint[\"d_r_mod\"][:-1]/df_timepoint[\"dr0\"][:-1]\n",
    "    colors = np.where(df_timepoint[\"mitotic_domain_id\"] == -1, \"#373f51\", \"#ff6978\")\n",
    "    #make line collection\n",
    "    #lc = LineCollection(segments_demo, array = dydx,cmap=cmap, norm=norm,alpha = alpha,lw = lw,)\n",
    "    lc = LineCollection(segments_demo, colors =colors,alpha = alpha,linewidths=lw, label = label)\n",
    "    line = ax.add_collection(lc)\n",
    "    \n",
    "    if plot_vit:\n",
    "        thetas = np.linspace(0, np.pi, 1000)\n",
    "        vit_x = np.cos(thetas)\n",
    "        vit_y = 0.4*np.sin(thetas)\n",
    "        ax.plot(1.02*vit_x, 1.02*vit_y, lw = lw, alpha = 1, color = \"#d7d8dc\", zorder = 0)\n",
    "    \n",
    "    ax.set_aspect('equal')\n",
    "    ax.set_xticks([])\n",
    "    ax.set_yticks([])\n",
    "    if title is not None: ax.set_title(title, fontsize = Medium_font_size)\n",
    "\n",
    "    return(ax)\n",
    "\n",
    "def helper_plot_qty_vs_time(ax, df, xname, yname, yname_std = None, xlim = None, ylim = None, lw = 1,\n",
    "                            title = None, yticks = None, yticklabels = None, xticks = None, xticklabels = None, set_xscale_log = True,\n",
    "                            axvline_xloc = None, axvline_color = \"blue\",\n",
    "                            \n",
    "                           ):\n",
    "    if xlim is not None : ax.set_xlim(xlim)\n",
    "    if ylim is not None : ax.set_ylim(ylim)\n",
    "    ax.plot(df[xname], df[yname],color = \"black\")   \n",
    "    if yname_std is not None:\n",
    "        ax.fill_between(df[xname], \n",
    "                df[yname] - df[yname_std],\n",
    "                df[yname] + df[yname_std],\n",
    "                alpha = 0.5, color = \"gray\"\n",
    "               )\n",
    "    if title is not None: ax.set_title(title, fontsize = Medium_font_size)\n",
    "    if set_xscale_log: ax.set_xscale(\"log\")\n",
    "    if yticks is not None: ax.set_yticks(yticks)\n",
    "    if yticklabels is not None: ax.set_yticklabels(yticklabels, fontsize = Medium_font_size)\n",
    "    if xticks is not None: ax.set_xticks(xticks)\n",
    "    if xticklabels is not None: ax.set_xticklabels(xticklabels, fontsize = Medium_font_size)\n",
    "    if xlabel is not None: ax.set_xlabel(xlabel, fontsize = Medium_font_size)\n",
    "        \n",
    "    if axvline_xloc is not None: ax.axvline(x = axvline_xloc, color = axvline_color, lw = lw, linestyle = '--')\n",
    "    \n",
    "    return(ax)"
   ]
  },
  {
   "cell_type": "code",
   "execution_count": 37,
   "metadata": {},
   "outputs": [
    {
     "name": "stdout",
     "output_type": "stream",
     "text": [
      "K_9e-05_seed_1178_germ_band_push_0.2_noise_scale_1e-05_dt_1e-05_t_final_1000.0/\n"
     ]
    },
    {
     "data": {
      "image/png": "[encoded data removed]",
      "text/plain": [
       "<Figure size 283.465x340.157 with 7 Axes>"
      ]
     },
     "metadata": {
      "needs_background": "light"
     },
     "output_type": "display_data"
    }
   ],
   "source": [
    "seed = 100 #100 is quite good\n",
    "np.random.seed(seed)\n",
    "path = np.random.choice(grouped_df.query(\"nb_folds_at_maxBendEnergy == 1\")[\"path\"])\n",
    "print(path)\n",
    "t_at_maxBendEnergy = grouped_df.query(\"path == @path\").t_at_maxBendEnergy.values[0]\n",
    "t_at_final = 1000 #grouped_df.query(\"path == @path\").t_at_final.values[0]\n",
    "germ_band_push = grouped_df.query(\"path == @path\").germ_band_push.values[0]\n",
    "K = grouped_df.query(\"path == @path\").K.values[0]\n",
    "single_sim_energy = df_energy_all.query(\"path == @path\")\n",
    "single_sim_at_maxBendEnergy = allSims_at_maxBendEnergy.query(\"path == @path\")\n",
    "single_sim_at_final = allSims_at_final.query(\"path == @path\")\n",
    "\n",
    "figsize = (10*cm_, 12*cm_)\n",
    "#title = r\"$K_b^{*} = $\" + str(K) + \" g\"\n",
    "set_xscale_log = True\n",
    "if set_xscale_log: \n",
    "    xticks = [1, t_at_maxBendEnergy, 1000]\n",
    "    xticklabels = ['0', str(np.round(np.log10(t_at_maxBendEnergy),1)), '3']\n",
    "    xlabel = r\"$t$\"+ \" (log10)\"\n",
    "else:\n",
    "    xticks = [0,1000]\n",
    "    xticklabels = [str(x) for x in xticks]\n",
    "    xlabel = r\"$t$\"\n",
    "\n",
    "fig, axd = plt.subplot_mosaic([['top','top', 'top'],\n",
    "                               ['center left', 'center center', 'center right'],\n",
    "                               ['lower left', 'lower center', 'lower right']\n",
    "                              ],\n",
    "                              figsize=figsize, )\n",
    "\n",
    "####\n",
    "# Plotting shape\n",
    "####\n",
    "\n",
    "ax = axd[\"top\"]\n",
    "ax = helper_plot_tissue(ax, single_sim_at_final, alpha = 0.5, lw = 2, plot_vit = False, label = f\"t = 1000\")\n",
    "ax = helper_plot_tissue(ax, single_sim_at_maxBendEnergy, alpha = 1, lw = 2, label = f\"t = {int(t_at_maxBendEnergy)}\")\n",
    "ax.legend(fontsize = Medium_font_size, loc = \"lower right\")\n",
    "\n",
    "####\n",
    "# Plotting energy and fold dynamics vs time\n",
    "####\n",
    "ax = axd[\"center left\"]\n",
    "yticks = [0, max(single_sim_energy[\"bend_energy_normalized\"])]\n",
    "ax = helper_plot_qty_vs_time(ax, single_sim_energy, xname = \"t\", yname = \"bend_energy_normalized\", \n",
    "                             xticks = xticks, xticklabels=xticklabels, \n",
    "                             yticks = yticks, yticklabels=[str(np.round(x,2)) for x in yticks],\n",
    "                             set_xscale_log = set_xscale_log, title = r\"$W_b^*$\",\n",
    "                             axvline_xloc = t_at_maxBendEnergy, axvline_color = \"blue\"\n",
    "                            )\n",
    "\n",
    "ax = axd[\"center center\"]\n",
    "yticks = [0, 1]\n",
    "ylim = (-0.2,1.8)\n",
    "ax = helper_plot_qty_vs_time(ax, single_sim_energy, xname = \"t\", yname = \"nb_folds\",\n",
    "                             xticks = xticks, xticklabels=xticklabels,\n",
    "                             yticks = yticks, yticklabels=[str(x) for x in yticks],ylim = ylim,\n",
    "                             set_xscale_log = set_xscale_log, title = r\"# folds\",\n",
    "                             axvline_xloc = t_at_maxBendEnergy, axvline_color = \"blue\"\n",
    "                            )\n",
    "ax = axd[\"center right\"]\n",
    "yticks = [0, max(single_sim_energy[\"max_depth\"])/2, max(single_sim_energy[\"max_depth\"])]\n",
    "ax = helper_plot_qty_vs_time(ax, single_sim_energy, xname = \"t\", yname = \"max_depth\",\n",
    "                             xticks = xticks, xticklabels=xticklabels,\n",
    "                             yticks = yticks, yticklabels=[str(np.round(x,1)) for x in yticks],\n",
    "                             set_xscale_log = set_xscale_log, title = r\"fold depth\",\n",
    "                             axvline_xloc = t_at_maxBendEnergy, axvline_color = \"blue\"\n",
    "                            )\n",
    "\n",
    "####\n",
    "# Plotting averages\n",
    "####\n",
    "df_averaged_temp = grouped_energy_df.query(f\"K == @K and germ_band_push == @germ_band_push\")\n",
    "#update the location of max Bend energy\n",
    "t_at_maxBendEnergy = df_averaged_temp[df_averaged_temp[\"bend_energy_normalized_mean\"] == max(df_averaged_temp[\"bend_energy_normalized_mean\"])].t.values[0]\n",
    "#update xticks\n",
    "if set_xscale_log: \n",
    "    xticks = [1, t_at_maxBendEnergy, 1000]\n",
    "    xticklabels = ['0', str(np.round(np.log10(t_at_maxBendEnergy),1)), '3']\n",
    "    xlabel = r\"$t$\"+ \" (log10)\"\n",
    "else:\n",
    "    xticks = [0,1000]\n",
    "    xticklabels = [str(x) for x in xticks]\n",
    "    xlabel = r\"$t$\"\n",
    "    \n",
    "ax = axd[\"lower left\"]\n",
    "yticks = [0, max(single_sim_energy[\"bend_energy_normalized\"])]\n",
    "ax = helper_plot_qty_vs_time(ax, df_averaged_temp, xname = \"t\", yname = \"bend_energy_normalized_mean\", yname_std = \"bend_energy_normalized_std\",\n",
    "                             xticks = xticks, xticklabels=xticklabels, \n",
    "                             yticks = yticks, yticklabels=[str(np.round(x,2)) for x in yticks],\n",
    "                             set_xscale_log = set_xscale_log, title = r\"$W_b^*$\",\n",
    "                             axvline_xloc = t_at_maxBendEnergy, axvline_color = \"blue\"\n",
    "                            )\n",
    "\n",
    "ax = axd[\"lower center\"]\n",
    "yticks = [0, 1]\n",
    "ylim = (-0.2,1.8)\n",
    "ax = helper_plot_qty_vs_time(ax, df_averaged_temp, xname = \"t\", yname = \"nb_folds_mean\",yname_std = \"nb_folds_std\",\n",
    "                             xticks = xticks, xticklabels=xticklabels,\n",
    "                             yticks = yticks, yticklabels=[str(x) for x in yticks],ylim = ylim,\n",
    "                             set_xscale_log = set_xscale_log, title = r\"# folds\",\n",
    "                             axvline_xloc = t_at_maxBendEnergy, axvline_color = \"blue\"\n",
    "                            )\n",
    "ax = axd[\"lower right\"]\n",
    "yticks = [0, max(single_sim_energy[\"max_depth\"])/2, max(single_sim_energy[\"max_depth\"])]\n",
    "ax = helper_plot_qty_vs_time(ax, df_averaged_temp, xname = \"t\", yname = \"max_depth_mean\",yname_std = \"max_depth_std\",\n",
    "                             xticks = xticks, xticklabels=xticklabels,\n",
    "                             yticks = yticks, yticklabels=[str(np.round(x,1)) for x in yticks],\n",
    "                             set_xscale_log = set_xscale_log, title = r\"fold depth\",\n",
    "                             axvline_xloc = t_at_maxBendEnergy, axvline_color = \"blue\"\n",
    "                            )\n",
    "\n",
    "fig.tight_layout(pad = 0.2,) "
   ]
  }
 ],
 "metadata": {
  "kernelspec": {
   "display_name": "env_CFTheory",
   "language": "python",
   "name": "env_cftheory"
  },
  "language_info": {
   "codemirror_mode": {
    "name": "ipython",
    "version": 3
   },
   "file_extension": ".py",
   "mimetype": "text/x-python",
   "name": "python",
   "nbconvert_exporter": "python",
   "pygments_lexer": "ipython3",
   "version": "3.8.5"
  }
 },
 "nbformat": 4,
 "nbformat_minor": 4
}
